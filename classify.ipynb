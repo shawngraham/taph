{
 "cells": [
  {
   "cell_type": "markdown",
   "id": "cardiac-bennett",
   "metadata": {},
   "source": [
    "# Taphonomic Classifier for Human Bone\n",
    "\n",
    "This is a demo of an interface for working with a tensorflow classifier trained on images of various taphonomic processes visible on human remains. Upload your image, then click the button."
   ]
  },
  {
   "cell_type": "code",
   "execution_count": 2,
   "id": "limiting-slovenia",
   "metadata": {},
   "outputs": [
    {
     "data": {
      "application/vnd.jupyter.widget-view+json": {
       "model_id": "4cefef16d85a4486985bb7e0d79f5bd5",
       "version_major": 2,
       "version_minor": 0
      },
      "text/plain": [
       "FileUpload(value={}, description='Upload')"
      ]
     },
     "metadata": {},
     "output_type": "display_data"
    }
   ],
   "source": [
    "from IPython.display import Image, display\n",
    "from ipywidgets import widgets\n",
    "from ipywidgets import FileUpload\n",
    "test_image = FileUpload()\n",
    "display(test_image)"
   ]
  },
  {
   "cell_type": "markdown",
   "id": "limited-civilization",
   "metadata": {},
   "source": [
    "-------"
   ]
  },
  {
   "cell_type": "code",
   "execution_count": null,
   "id": "metric-square",
   "metadata": {},
   "outputs": [],
   "source": [
    "\n",
    "button = widgets.Button(description=\"Classify the taphonomic process\")\n",
    "display(button)\n",
    "def on_button_clicked(b):\n",
    "    uploaded_filename = next(iter(test_image.value))\n",
    "    content = test_image.value[uploaded_filename]['content']\n",
    "    with open('myfile.jpg', 'wb') as f: f.write(content)\n",
    "    display(Image(filename='myfile.jpg')) \n",
    "    \n",
    "   \n",
    "    !python -W ignore -m scripts.label_image \\\n",
    "    --graph=data/retrained_graph.pb  \\\n",
    "    --labels=data/retrained_labels.txt \\\n",
    "    --image=myfile.jpg\n",
    "    \n",
    "button.on_click(on_button_clicked)\n",
    "print(\"Ignore the warnings\")"
   ]
  },
  {
   "cell_type": "markdown",
   "id": "electrical-provision",
   "metadata": {},
   "source": [
    "## Scroll Down in the Results Box\n",
    "\n",
    "If you check multiple pictures, your results will append at the bottom of the window; you will need to scroll down to see them. Classification is quite quick, 1 second or so."
   ]
  },
  {
   "cell_type": "markdown",
   "id": "atmospheric-flush",
   "metadata": {},
   "source": [
    "## Credits\n",
    "Classifier is trained using the Tensorflow for Poets tutorial; this app was made by carefully studying the work of Tim Sherratt and the GLAM Workbench, by Shawn Graham"
   ]
  },
  {
   "cell_type": "code",
   "execution_count": null,
   "id": "declared-experiment",
   "metadata": {},
   "outputs": [],
   "source": []
  }
 ],
 "metadata": {
  "kernelspec": {
   "display_name": "Python 3",
   "language": "python",
   "name": "python3"
  },
  "language_info": {
   "codemirror_mode": {
    "name": "ipython",
    "version": 3
   },
   "file_extension": ".py",
   "mimetype": "text/x-python",
   "name": "python",
   "nbconvert_exporter": "python",
   "pygments_lexer": "ipython3",
   "version": "3.7.9"
  }
 },
 "nbformat": 4,
 "nbformat_minor": 5
}
